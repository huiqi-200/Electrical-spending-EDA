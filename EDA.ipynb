{
 "cells": [
  {
   "cell_type": "code",
   "execution_count": 106,
   "metadata": {},
   "outputs": [],
   "source": [
    "import pandas as pd\n",
    "import numpy as np\n",
    "from sqlalchemy import create_engine\n"
   ]
  },
  {
   "cell_type": "markdown",
   "metadata": {},
   "source": [
    "## Apportionment "
   ]
  },
  {
   "cell_type": "code",
   "execution_count": 108,
   "metadata": {},
   "outputs": [],
   "source": [
    "engine = create_engine('postgresql://postgres:<use your own password>@localhost:5432/<your own database name>')"
   ]
  },
  {
   "cell_type": "code",
   "execution_count": 109,
   "metadata": {},
   "outputs": [],
   "source": [
    "query_segment_matrix = \"SELECT *\\\n",
    "                    FROM segment_matrix\"\n",
    "segment_matrix= pd.read_sql_query(query_segment_matrix, engine)"
   ]
  },
  {
   "cell_type": "code",
   "execution_count": 110,
   "metadata": {},
   "outputs": [],
   "source": [
    "segment_matrix['apportioned'] = segment_matrix['Customer Count'] * segment_matrix['customer_vol']"
   ]
  },
  {
   "cell_type": "markdown",
   "metadata": {},
   "source": [
    "Group by market segment"
   ]
  },
  {
   "cell_type": "code",
   "execution_count": 112,
   "metadata": {},
   "outputs": [],
   "source": [
    "grouped_segment_matrix = segment_matrix.join(segment_matrix.groupby('Market Segment')['apportioned'].sum(),\n",
    "                         on = 'Market Segment', rsuffix='_sum')"
   ]
  },
  {
   "cell_type": "code",
   "execution_count": 113,
   "metadata": {},
   "outputs": [],
   "source": [
    "grouped_segment_matrix['apportioning_percentage'] = grouped_segment_matrix.apportioned/\\\n",
    "                                                    grouped_segment_matrix.apportioned_sum"
   ]
  },
  {
   "cell_type": "code",
   "execution_count": 114,
   "metadata": {},
   "outputs": [
    {
     "data": {
      "text/html": [
       "<div>\n",
       "<style scoped>\n",
       "    .dataframe tbody tr th:only-of-type {\n",
       "        vertical-align: middle;\n",
       "    }\n",
       "\n",
       "    .dataframe tbody tr th {\n",
       "        vertical-align: top;\n",
       "    }\n",
       "\n",
       "    .dataframe thead th {\n",
       "        text-align: right;\n",
       "    }\n",
       "</style>\n",
       "<table border=\"1\" class=\"dataframe\">\n",
       "  <thead>\n",
       "    <tr style=\"text-align: right;\">\n",
       "      <th></th>\n",
       "      <th>Product id</th>\n",
       "      <th>Tariff type</th>\n",
       "      <th>Tariff name</th>\n",
       "      <th>Market Segment</th>\n",
       "      <th>region</th>\n",
       "      <th>Payment Type</th>\n",
       "      <th>Customer Count</th>\n",
       "      <th>customer_vol</th>\n",
       "      <th>apportioned</th>\n",
       "      <th>apportioned_sum</th>\n",
       "      <th>apportioning_percentage</th>\n",
       "    </tr>\n",
       "  </thead>\n",
       "  <tbody>\n",
       "    <tr>\n",
       "      <th>0</th>\n",
       "      <td>1</td>\n",
       "      <td>Single</td>\n",
       "      <td>STANDARD TARIFF</td>\n",
       "      <td>RESIDENTIAL</td>\n",
       "      <td>North</td>\n",
       "      <td>CREDIT</td>\n",
       "      <td>110374</td>\n",
       "      <td>4.55</td>\n",
       "      <td>502201.70</td>\n",
       "      <td>56795664.69</td>\n",
       "      <td>0.008842</td>\n",
       "    </tr>\n",
       "    <tr>\n",
       "      <th>1</th>\n",
       "      <td>2</td>\n",
       "      <td>Single</td>\n",
       "      <td>STANDARD TARIFF</td>\n",
       "      <td>RESIDENTIAL</td>\n",
       "      <td>North</td>\n",
       "      <td>DEBIT</td>\n",
       "      <td>100033</td>\n",
       "      <td>3.99</td>\n",
       "      <td>399131.67</td>\n",
       "      <td>56795664.69</td>\n",
       "      <td>0.007028</td>\n",
       "    </tr>\n",
       "    <tr>\n",
       "      <th>2</th>\n",
       "      <td>3</td>\n",
       "      <td>Single</td>\n",
       "      <td>STANDARD TARIFF</td>\n",
       "      <td>RESIDENTIAL</td>\n",
       "      <td>North</td>\n",
       "      <td>PRE-PAID</td>\n",
       "      <td>146390</td>\n",
       "      <td>3.98</td>\n",
       "      <td>582632.20</td>\n",
       "      <td>56795664.69</td>\n",
       "      <td>0.010258</td>\n",
       "    </tr>\n",
       "    <tr>\n",
       "      <th>3</th>\n",
       "      <td>4</td>\n",
       "      <td>Single</td>\n",
       "      <td>STANDARD TARIFF</td>\n",
       "      <td>RESIDENTIAL</td>\n",
       "      <td>South</td>\n",
       "      <td>CREDIT</td>\n",
       "      <td>123060</td>\n",
       "      <td>3.88</td>\n",
       "      <td>477472.80</td>\n",
       "      <td>56795664.69</td>\n",
       "      <td>0.008407</td>\n",
       "    </tr>\n",
       "    <tr>\n",
       "      <th>4</th>\n",
       "      <td>5</td>\n",
       "      <td>Single</td>\n",
       "      <td>STANDARD TARIFF</td>\n",
       "      <td>RESIDENTIAL</td>\n",
       "      <td>South</td>\n",
       "      <td>DEBIT</td>\n",
       "      <td>50311</td>\n",
       "      <td>4.67</td>\n",
       "      <td>234952.37</td>\n",
       "      <td>56795664.69</td>\n",
       "      <td>0.004137</td>\n",
       "    </tr>\n",
       "  </tbody>\n",
       "</table>\n",
       "</div>"
      ],
      "text/plain": [
       "   Product id Tariff type      Tariff name Market Segment region Payment Type  \\\n",
       "0           1      Single  STANDARD TARIFF    RESIDENTIAL  North       CREDIT   \n",
       "1           2      Single  STANDARD TARIFF    RESIDENTIAL  North        DEBIT   \n",
       "2           3      Single  STANDARD TARIFF    RESIDENTIAL  North     PRE-PAID   \n",
       "3           4      Single  STANDARD TARIFF    RESIDENTIAL  South       CREDIT   \n",
       "4           5      Single  STANDARD TARIFF    RESIDENTIAL  South        DEBIT   \n",
       "\n",
       "   Customer Count  customer_vol  apportioned  apportioned_sum  \\\n",
       "0          110374          4.55    502201.70      56795664.69   \n",
       "1          100033          3.99    399131.67      56795664.69   \n",
       "2          146390          3.98    582632.20      56795664.69   \n",
       "3          123060          3.88    477472.80      56795664.69   \n",
       "4           50311          4.67    234952.37      56795664.69   \n",
       "\n",
       "   apportioning_percentage  \n",
       "0                 0.008842  \n",
       "1                 0.007028  \n",
       "2                 0.010258  \n",
       "3                 0.008407  \n",
       "4                 0.004137  "
      ]
     },
     "execution_count": 114,
     "metadata": {},
     "output_type": "execute_result"
    }
   ],
   "source": [
    "grouped_segment_matrix.head()"
   ]
  },
  {
   "cell_type": "markdown",
   "metadata": {},
   "source": [
    "Get forecast_vol"
   ]
  },
  {
   "cell_type": "code",
   "execution_count": 115,
   "metadata": {},
   "outputs": [],
   "source": [
    "query_forecast_vol = \"SELECT *\\\n",
    "                    FROM forecast_vol\"\n",
    "forecast_vol= pd.read_sql_query(query_forecast_vol, engine)"
   ]
  },
  {
   "cell_type": "code",
   "execution_count": 118,
   "metadata": {},
   "outputs": [],
   "source": [
    "forecast_vol_market_segment= forecast_vol.merge(grouped_segment_matrix, \n",
    "                                            left_on='region',\n",
    "                                            right_on = 'region',\n",
    "                                            suffixes = (\"_forecast\", \"_segment_matrix\"))"
   ]
  },
  {
   "cell_type": "markdown",
   "metadata": {},
   "source": [
    "Get actual volume\n"
   ]
  },
  {
   "cell_type": "code",
   "execution_count": 120,
   "metadata": {},
   "outputs": [],
   "source": [
    "query_actual_vol = \"SELECT *\\\n",
    "                    FROM actual_vol\"\n",
    "actual_vol= pd.read_sql_query(query_actual_vol, engine, parse_dates= {'dates': 'dd/mm/yy'})"
   ]
  },
  {
   "cell_type": "markdown",
   "metadata": {},
   "source": [
    "Turn all Market Segment values to upper case to match forecast vol datatable"
   ]
  },
  {
   "cell_type": "code",
   "execution_count": 121,
   "metadata": {},
   "outputs": [],
   "source": [
    "actual_vol['Market Segment'] = actual_vol['Market Segment'].str.upper()"
   ]
  },
  {
   "cell_type": "markdown",
   "metadata": {},
   "source": [
    "Rename actual_vol's columns"
   ]
  },
  {
   "cell_type": "code",
   "execution_count": 122,
   "metadata": {},
   "outputs": [],
   "source": [
    "actual_vol = actual_vol.rename({'Days':'date','Period':'period', 'Volume':'volume'},axis = 1)"
   ]
  },
  {
   "cell_type": "markdown",
   "metadata": {},
   "source": [
    "Update forecasted Volume's date to be same as actual Volume"
   ]
  },
  {
   "cell_type": "code",
   "execution_count": 123,
   "metadata": {},
   "outputs": [],
   "source": [
    "import datetime"
   ]
  },
  {
   "cell_type": "code",
   "execution_count": 124,
   "metadata": {},
   "outputs": [],
   "source": [
    "forecast_vol_market_segment['date'] = pd.to_datetime(forecast_vol_market_segment['date'])\\\n",
    "                                                    .dt.strftime(\"%d/%m/%Y\")"
   ]
  },
  {
   "cell_type": "markdown",
   "metadata": {},
   "source": [
    "Take into account apportioning percentage for forecast volume"
   ]
  },
  {
   "cell_type": "code",
   "execution_count": 127,
   "metadata": {},
   "outputs": [],
   "source": [
    "forecast_vol_market_segment['volume_apportioned'] = forecast_vol_market_segment.volume*forecast_vol_market_segment.apportioning_percentage"
   ]
  },
  {
   "cell_type": "code",
   "execution_count": 128,
   "metadata": {},
   "outputs": [
    {
     "data": {
      "text/html": [
       "<div>\n",
       "<style scoped>\n",
       "    .dataframe tbody tr th:only-of-type {\n",
       "        vertical-align: middle;\n",
       "    }\n",
       "\n",
       "    .dataframe tbody tr th {\n",
       "        vertical-align: top;\n",
       "    }\n",
       "\n",
       "    .dataframe thead th {\n",
       "        text-align: right;\n",
       "    }\n",
       "</style>\n",
       "<table border=\"1\" class=\"dataframe\">\n",
       "  <thead>\n",
       "    <tr style=\"text-align: right;\">\n",
       "      <th></th>\n",
       "      <th>date</th>\n",
       "      <th>period</th>\n",
       "      <th>region</th>\n",
       "      <th>volume</th>\n",
       "      <th>Product id</th>\n",
       "      <th>Tariff type</th>\n",
       "      <th>Tariff name</th>\n",
       "      <th>Market Segment</th>\n",
       "      <th>Payment Type</th>\n",
       "      <th>Customer Count</th>\n",
       "      <th>customer_vol</th>\n",
       "      <th>apportioned</th>\n",
       "      <th>apportioned_sum</th>\n",
       "      <th>apportioning_percentage</th>\n",
       "      <th>volume_apportioned</th>\n",
       "    </tr>\n",
       "  </thead>\n",
       "  <tbody>\n",
       "    <tr>\n",
       "      <th>0</th>\n",
       "      <td>01/01/2010</td>\n",
       "      <td>1</td>\n",
       "      <td>North</td>\n",
       "      <td>4573.337617</td>\n",
       "      <td>1</td>\n",
       "      <td>Single</td>\n",
       "      <td>STANDARD TARIFF</td>\n",
       "      <td>RESIDENTIAL</td>\n",
       "      <td>CREDIT</td>\n",
       "      <td>110374</td>\n",
       "      <td>4.55</td>\n",
       "      <td>502201.70</td>\n",
       "      <td>5.679566e+07</td>\n",
       "      <td>0.008842</td>\n",
       "      <td>40.438613</td>\n",
       "    </tr>\n",
       "    <tr>\n",
       "      <th>1</th>\n",
       "      <td>01/01/2010</td>\n",
       "      <td>1</td>\n",
       "      <td>North</td>\n",
       "      <td>4573.337617</td>\n",
       "      <td>2</td>\n",
       "      <td>Single</td>\n",
       "      <td>STANDARD TARIFF</td>\n",
       "      <td>RESIDENTIAL</td>\n",
       "      <td>DEBIT</td>\n",
       "      <td>100033</td>\n",
       "      <td>3.99</td>\n",
       "      <td>399131.67</td>\n",
       "      <td>5.679566e+07</td>\n",
       "      <td>0.007028</td>\n",
       "      <td>32.139141</td>\n",
       "    </tr>\n",
       "    <tr>\n",
       "      <th>2</th>\n",
       "      <td>01/01/2010</td>\n",
       "      <td>1</td>\n",
       "      <td>North</td>\n",
       "      <td>4573.337617</td>\n",
       "      <td>3</td>\n",
       "      <td>Single</td>\n",
       "      <td>STANDARD TARIFF</td>\n",
       "      <td>RESIDENTIAL</td>\n",
       "      <td>PRE-PAID</td>\n",
       "      <td>146390</td>\n",
       "      <td>3.98</td>\n",
       "      <td>582632.20</td>\n",
       "      <td>5.679566e+07</td>\n",
       "      <td>0.010258</td>\n",
       "      <td>46.915091</td>\n",
       "    </tr>\n",
       "    <tr>\n",
       "      <th>3</th>\n",
       "      <td>01/01/2010</td>\n",
       "      <td>1</td>\n",
       "      <td>North</td>\n",
       "      <td>4573.337617</td>\n",
       "      <td>13</td>\n",
       "      <td>Single</td>\n",
       "      <td>STANDARD TARIFF</td>\n",
       "      <td>SMALL MEDIUM ENTERPRISE</td>\n",
       "      <td>CREDIT</td>\n",
       "      <td>14061</td>\n",
       "      <td>103.30</td>\n",
       "      <td>1452501.30</td>\n",
       "      <td>3.313445e+08</td>\n",
       "      <td>0.004384</td>\n",
       "      <td>20.047954</td>\n",
       "    </tr>\n",
       "    <tr>\n",
       "      <th>4</th>\n",
       "      <td>01/01/2010</td>\n",
       "      <td>1</td>\n",
       "      <td>North</td>\n",
       "      <td>4573.337617</td>\n",
       "      <td>14</td>\n",
       "      <td>Single</td>\n",
       "      <td>STANDARD TARIFF</td>\n",
       "      <td>SMALL MEDIUM ENTERPRISE</td>\n",
       "      <td>DEBIT</td>\n",
       "      <td>16655</td>\n",
       "      <td>241.70</td>\n",
       "      <td>4025513.50</td>\n",
       "      <td>3.313445e+08</td>\n",
       "      <td>0.012149</td>\n",
       "      <td>55.561609</td>\n",
       "    </tr>\n",
       "  </tbody>\n",
       "</table>\n",
       "</div>"
      ],
      "text/plain": [
       "         date  period region       volume  Product id Tariff type  \\\n",
       "0  01/01/2010       1  North  4573.337617           1      Single   \n",
       "1  01/01/2010       1  North  4573.337617           2      Single   \n",
       "2  01/01/2010       1  North  4573.337617           3      Single   \n",
       "3  01/01/2010       1  North  4573.337617          13      Single   \n",
       "4  01/01/2010       1  North  4573.337617          14      Single   \n",
       "\n",
       "       Tariff name           Market Segment Payment Type  Customer Count  \\\n",
       "0  STANDARD TARIFF              RESIDENTIAL       CREDIT          110374   \n",
       "1  STANDARD TARIFF              RESIDENTIAL        DEBIT          100033   \n",
       "2  STANDARD TARIFF              RESIDENTIAL     PRE-PAID          146390   \n",
       "3  STANDARD TARIFF  SMALL MEDIUM ENTERPRISE       CREDIT           14061   \n",
       "4  STANDARD TARIFF  SMALL MEDIUM ENTERPRISE        DEBIT           16655   \n",
       "\n",
       "   customer_vol  apportioned  apportioned_sum  apportioning_percentage  \\\n",
       "0          4.55    502201.70     5.679566e+07                 0.008842   \n",
       "1          3.99    399131.67     5.679566e+07                 0.007028   \n",
       "2          3.98    582632.20     5.679566e+07                 0.010258   \n",
       "3        103.30   1452501.30     3.313445e+08                 0.004384   \n",
       "4        241.70   4025513.50     3.313445e+08                 0.012149   \n",
       "\n",
       "   volume_apportioned  \n",
       "0           40.438613  \n",
       "1           32.139141  \n",
       "2           46.915091  \n",
       "3           20.047954  \n",
       "4           55.561609  "
      ]
     },
     "execution_count": 128,
     "metadata": {},
     "output_type": "execute_result"
    }
   ],
   "source": [
    "forecast_vol_market_segment.head()"
   ]
  },
  {
   "cell_type": "markdown",
   "metadata": {},
   "source": [
    "After apportioning, volume from forecast is based on customer size "
   ]
  },
  {
   "cell_type": "markdown",
   "metadata": {},
   "source": [
    "Group by date and period, sum volume for all regions\n",
    "\n"
   ]
  },
  {
   "cell_type": "code",
   "execution_count": 148,
   "metadata": {},
   "outputs": [],
   "source": [
    "forecast_vol_market_segment_filter = forecast_vol_market_segment[['Market Segment', 'date', 'period','region','volume_apportioned','apportioning_percentage']]\\\n",
    "                                            .groupby(['date','period','Market Segment'])['volume_apportioned']\\\n",
    "                                            .sum().reset_index()"
   ]
  },
  {
   "cell_type": "code",
   "execution_count": 149,
   "metadata": {},
   "outputs": [],
   "source": [
    "forecast_vol_market_segment_filter = forecast_vol_market_segment_filter.rename(columns={'volume_apportioned':'volume'})"
   ]
  },
  {
   "cell_type": "markdown",
   "metadata": {},
   "source": [
    "Merge both actual vol and forecast vol tables for calculating Mean Absolute Percentage Error (MAPE)"
   ]
  },
  {
   "cell_type": "code",
   "execution_count": 151,
   "metadata": {},
   "outputs": [],
   "source": [
    "forecast_actual_vol_merged = forecast_vol_market_segment_filter.merge(actual_vol, how = 'inner',\n",
    "                                                            on =[ 'date','period','Market Segment'],suffixes=('_forecast_vol','_actual_vol'))"
   ]
  },
  {
   "cell_type": "code",
   "execution_count": 154,
   "metadata": {},
   "outputs": [],
   "source": [
    "forecast_actual_vol_merged['vol_difference'] = abs((forecast_actual_vol_merged.volume_actual_vol - forecast_actual_vol_merged.volume_forecast_vol)/forecast_actual_vol_merged.volume_actual_vol)"
   ]
  },
  {
   "cell_type": "code",
   "execution_count": null,
   "metadata": {},
   "outputs": [],
   "source": [
    "#forecast_actual_vol_merged.groupby('Market Segment')['vol_difference'].sum()"
   ]
  },
  {
   "cell_type": "markdown",
   "metadata": {},
   "source": [
    "SMALL MEDIUM ENTERPRISE with lowest Mean Absolute Percentage Error from jan to june 2010"
   ]
  },
  {
   "cell_type": "markdown",
   "metadata": {},
   "source": [
    "MAPE for each day, sum over all periods "
   ]
  },
  {
   "cell_type": "code",
   "execution_count": 156,
   "metadata": {},
   "outputs": [
    {
     "data": {
      "text/html": [
       "<div>\n",
       "<style scoped>\n",
       "    .dataframe tbody tr th:only-of-type {\n",
       "        vertical-align: middle;\n",
       "    }\n",
       "\n",
       "    .dataframe tbody tr th {\n",
       "        vertical-align: top;\n",
       "    }\n",
       "\n",
       "    .dataframe thead th {\n",
       "        text-align: right;\n",
       "    }\n",
       "</style>\n",
       "<table border=\"1\" class=\"dataframe\">\n",
       "  <thead>\n",
       "    <tr style=\"text-align: right;\">\n",
       "      <th></th>\n",
       "      <th>date</th>\n",
       "      <th>Market Segment</th>\n",
       "      <th>vol_difference</th>\n",
       "    </tr>\n",
       "  </thead>\n",
       "  <tbody>\n",
       "    <tr>\n",
       "      <th>0</th>\n",
       "      <td>01/01/2010</td>\n",
       "      <td>INDUSTRIAL CUSTOMER</td>\n",
       "      <td>11.623160</td>\n",
       "    </tr>\n",
       "    <tr>\n",
       "      <th>1</th>\n",
       "      <td>01/01/2010</td>\n",
       "      <td>RESIDENTIAL</td>\n",
       "      <td>11.790311</td>\n",
       "    </tr>\n",
       "    <tr>\n",
       "      <th>2</th>\n",
       "      <td>01/01/2010</td>\n",
       "      <td>SMALL MEDIUM ENTERPRISE</td>\n",
       "      <td>11.834755</td>\n",
       "    </tr>\n",
       "    <tr>\n",
       "      <th>3</th>\n",
       "      <td>01/02/2010</td>\n",
       "      <td>INDUSTRIAL CUSTOMER</td>\n",
       "      <td>14.219882</td>\n",
       "    </tr>\n",
       "    <tr>\n",
       "      <th>4</th>\n",
       "      <td>01/02/2010</td>\n",
       "      <td>RESIDENTIAL</td>\n",
       "      <td>12.153542</td>\n",
       "    </tr>\n",
       "    <tr>\n",
       "      <th>...</th>\n",
       "      <td>...</td>\n",
       "      <td>...</td>\n",
       "      <td>...</td>\n",
       "    </tr>\n",
       "    <tr>\n",
       "      <th>538</th>\n",
       "      <td>31/03/2010</td>\n",
       "      <td>RESIDENTIAL</td>\n",
       "      <td>12.037132</td>\n",
       "    </tr>\n",
       "    <tr>\n",
       "      <th>539</th>\n",
       "      <td>31/03/2010</td>\n",
       "      <td>SMALL MEDIUM ENTERPRISE</td>\n",
       "      <td>11.537388</td>\n",
       "    </tr>\n",
       "    <tr>\n",
       "      <th>540</th>\n",
       "      <td>31/05/2010</td>\n",
       "      <td>INDUSTRIAL CUSTOMER</td>\n",
       "      <td>12.140003</td>\n",
       "    </tr>\n",
       "    <tr>\n",
       "      <th>541</th>\n",
       "      <td>31/05/2010</td>\n",
       "      <td>RESIDENTIAL</td>\n",
       "      <td>11.959011</td>\n",
       "    </tr>\n",
       "    <tr>\n",
       "      <th>542</th>\n",
       "      <td>31/05/2010</td>\n",
       "      <td>SMALL MEDIUM ENTERPRISE</td>\n",
       "      <td>11.624549</td>\n",
       "    </tr>\n",
       "  </tbody>\n",
       "</table>\n",
       "<p>543 rows × 3 columns</p>\n",
       "</div>"
      ],
      "text/plain": [
       "           date           Market Segment  vol_difference\n",
       "0    01/01/2010      INDUSTRIAL CUSTOMER       11.623160\n",
       "1    01/01/2010              RESIDENTIAL       11.790311\n",
       "2    01/01/2010  SMALL MEDIUM ENTERPRISE       11.834755\n",
       "3    01/02/2010      INDUSTRIAL CUSTOMER       14.219882\n",
       "4    01/02/2010              RESIDENTIAL       12.153542\n",
       "..          ...                      ...             ...\n",
       "538  31/03/2010              RESIDENTIAL       12.037132\n",
       "539  31/03/2010  SMALL MEDIUM ENTERPRISE       11.537388\n",
       "540  31/05/2010      INDUSTRIAL CUSTOMER       12.140003\n",
       "541  31/05/2010              RESIDENTIAL       11.959011\n",
       "542  31/05/2010  SMALL MEDIUM ENTERPRISE       11.624549\n",
       "\n",
       "[543 rows x 3 columns]"
      ]
     },
     "execution_count": 156,
     "metadata": {},
     "output_type": "execute_result"
    }
   ],
   "source": [
    "forecast_actual_vol_merged.groupby(['date','Market Segment'])['vol_difference'].sum().reset_index()"
   ]
  },
  {
   "cell_type": "markdown",
   "metadata": {},
   "source": [
    "### Visualizations\n"
   ]
  },
  {
   "cell_type": "code",
   "execution_count": 157,
   "metadata": {},
   "outputs": [],
   "source": [
    "import plotly.express as px"
   ]
  },
  {
   "cell_type": "markdown",
   "metadata": {},
   "source": [
    "Mean Absolute Percentage Error (MAPE) over days"
   ]
  },
  {
   "cell_type": "markdown",
   "metadata": {},
   "source": [
    "Sort by datetime, this code helped sort in chronological order  \n",
    "sorting by default - months will be messed up, eg: 30th june before 31st may"
   ]
  },
  {
   "cell_type": "code",
   "execution_count": 189,
   "metadata": {},
   "outputs": [],
   "source": [
    "forecast_actual_vol_merged['date'] = pd.to_datetime(forecast_actual_vol_merged.date,format=\"%d/%m/%Y\")\n",
    "forecast_actual_vol_merged = forecast_actual_vol_merged.sort_values('date')"
   ]
  },
  {
   "cell_type": "code",
   "execution_count": null,
   "metadata": {},
   "outputs": [],
   "source": [
    "forecast_actual_vol_merged.head()"
   ]
  },
  {
   "cell_type": "code",
   "execution_count": null,
   "metadata": {},
   "outputs": [],
   "source": [
    "df = forecast_actual_vol_merged.groupby(['date','Market Segment'])['vol_difference'].sum().reset_index()\n",
    "fig = px.line(df, x='date', y=\"vol_difference\", facet_col='Market Segment')\n",
    "fig.show()"
   ]
  },
  {
   "cell_type": "markdown",
   "metadata": {},
   "source": [
    "Checking what happened on June 9th in Residential"
   ]
  },
  {
   "cell_type": "code",
   "execution_count": null,
   "metadata": {},
   "outputs": [],
   "source": [
    "forecast_actual_vol_merged[(forecast_actual_vol_merged['date']>'2010-06-08') & (forecast_actual_vol_merged['date']< '2010-06-10')]\\\n",
    "                    [forecast_actual_vol_merged['Market Segment'] == 'RESIDENTIAL']"
   ]
  },
  {
   "cell_type": "markdown",
   "metadata": {},
   "source": [
    "At period 48, appears to be an outlier  \n",
    "Could be worth investigating the cause of the outlier."
   ]
  },
  {
   "cell_type": "markdown",
   "metadata": {},
   "source": [
    "## Top 10 most profitable products by market segment"
   ]
  },
  {
   "cell_type": "markdown",
   "metadata": {},
   "source": [
    "### Finding Total Costs "
   ]
  },
  {
   "cell_type": "markdown",
   "metadata": {},
   "source": [
    "### Balance cost"
   ]
  },
  {
   "cell_type": "code",
   "execution_count": 214,
   "metadata": {},
   "outputs": [],
   "source": [
    "query_balance_cost = \"SELECT *\\\n",
    "                    FROM balance_cost\"\n",
    "balance_cost= pd.read_sql_query(query_balance_cost, engine, parse_dates='date')"
   ]
  },
  {
   "cell_type": "code",
   "execution_count": null,
   "metadata": {},
   "outputs": [],
   "source": [
    "balance_cost.info()"
   ]
  },
  {
   "cell_type": "markdown",
   "metadata": {},
   "source": [
    "Map Balance costs to forecast_actual_vol_merged"
   ]
  },
  {
   "cell_type": "code",
   "execution_count": 218,
   "metadata": {},
   "outputs": [],
   "source": [
    "cost_merged = forecast_actual_vol_merged.merge(balance_cost, on=['date','period'])\n",
    "cost_merged['balancing_cost'] = cost_merged.vol_difference * cost_merged.balance_costrate"
   ]
  },
  {
   "cell_type": "markdown",
   "metadata": {},
   "source": [
    "### Period Costs"
   ]
  },
  {
   "cell_type": "code",
   "execution_count": 268,
   "metadata": {},
   "outputs": [],
   "source": [
    "query_other_cost = \"SELECT *\\\n",
    "                    FROM other_cost\"\n",
    "other_cost= pd.read_sql_query(query_other_cost, engine, parse_dates='date')"
   ]
  },
  {
   "cell_type": "code",
   "execution_count": 269,
   "metadata": {},
   "outputs": [],
   "source": [
    "cost_merged_other = cost_merged.merge(other_cost, on=['period'])\n",
    "cost_merged_other['period_cost_value'] = cost_merged_other.volume_actual_vol * cost_merged_other['Period Cost']"
   ]
  },
  {
   "cell_type": "code",
   "execution_count": null,
   "metadata": {},
   "outputs": [],
   "source": [
    "cost_merged_other.head()"
   ]
  },
  {
   "cell_type": "markdown",
   "metadata": {},
   "source": [
    "## Revenue\n"
   ]
  },
  {
   "cell_type": "markdown",
   "metadata": {},
   "source": [
    "### Standing charge revenue  \n",
    "4)\tStanding charge revenue: number of customers * days * (standing charge rate *(1-tariff discount percentage))\n",
    "\n",
    "forecast_vol_market_segment.customer_count*1(day)*( tariff.standing_charge  *(1- tariff_discount.discount))"
   ]
  },
  {
   "cell_type": "code",
   "execution_count": 239,
   "metadata": {},
   "outputs": [],
   "source": [
    "query_tariffs = \"SELECT *\\\n",
    "                    FROM tariff\"\n",
    "tariff= pd.read_sql_query(query_tariffs, engine)\n",
    "\n",
    "query_tariffs_disc = \"SELECT *\\\n",
    "                    FROM tariff_discount\"\n",
    "tariff_discount= pd.read_sql_query(query_tariffs_disc, engine)"
   ]
  },
  {
   "cell_type": "code",
   "execution_count": null,
   "metadata": {},
   "outputs": [],
   "source": [
    "tariff.info()\n",
    "tariff_discount.info()"
   ]
  },
  {
   "cell_type": "markdown",
   "metadata": {},
   "source": [
    "Joins required\n",
    "\n",
    "forecast_vol_market_segment(joins of segment matrix, forecast and actual vol that has been appartioned) inner join  \n",
    "tariff, on tariff name, region, market segment  \n",
    "tariff discount, on payment type"
   ]
  },
  {
   "cell_type": "code",
   "execution_count": 352,
   "metadata": {},
   "outputs": [],
   "source": [
    "revenue = forecast_vol_market_segment.merge(tariff, on=['Tariff name','Market Segment','region']).merge(tariff_discount, on='Payment Type').merge(\\\n",
    "                                                        actual_vol, how = 'inner', on =[ 'date','period','Market Segment'],suffixes=('_forecast_vol','_actual_vol'))"
   ]
  },
  {
   "cell_type": "code",
   "execution_count": 353,
   "metadata": {},
   "outputs": [
    {
     "data": {
      "text/plain": [
       "Market Segment           region  date        period\n",
       "INDUSTRIAL CUSTOMER      East    01/01/2010  1         798.00\n",
       "                                             2         798.00\n",
       "                                             3         798.00\n",
       "                                             4         798.00\n",
       "                                             5         798.00\n",
       "                                                        ...  \n",
       "SMALL MEDIUM ENTERPRISE  West    31/05/2010  44          1.08\n",
       "                                             45          1.08\n",
       "                                             46          1.08\n",
       "                                             47          1.08\n",
       "                                             48          1.08\n",
       "Name: standing_charge, Length: 104256, dtype: float64"
      ]
     },
     "execution_count": 353,
     "metadata": {},
     "output_type": "execute_result"
    }
   ],
   "source": [
    "revenue.groupby(['Market Segment','region', 'date','period'])['standing_charge'].sum()"
   ]
  },
  {
   "cell_type": "code",
   "execution_count": 354,
   "metadata": {},
   "outputs": [],
   "source": [
    "revenue['standing_charge_a_day']= revenue['Customer Count']*(revenue['standing_charge']* (1 - revenue['tariff_discount']))"
   ]
  },
  {
   "cell_type": "code",
   "execution_count": 355,
   "metadata": {},
   "outputs": [],
   "source": [
    "revenue_volume = revenue.groupby(['date','region','Market Segment','Product id','Tariff name','Payment Type'])['apportioning_percentage'].sum().reset_index().rename({'volume_apportioned':'volume_apportioned_a_day'}, axis = 1)"
   ]
  },
  {
   "cell_type": "markdown",
   "metadata": {},
   "source": [
    "Actual vol for each day"
   ]
  },
  {
   "cell_type": "code",
   "execution_count": 356,
   "metadata": {},
   "outputs": [
    {
     "data": {
      "text/html": [
       "<div>\n",
       "<style scoped>\n",
       "    .dataframe tbody tr th:only-of-type {\n",
       "        vertical-align: middle;\n",
       "    }\n",
       "\n",
       "    .dataframe tbody tr th {\n",
       "        vertical-align: top;\n",
       "    }\n",
       "\n",
       "    .dataframe thead th {\n",
       "        text-align: right;\n",
       "    }\n",
       "</style>\n",
       "<table border=\"1\" class=\"dataframe\">\n",
       "  <thead>\n",
       "    <tr style=\"text-align: right;\">\n",
       "      <th></th>\n",
       "      <th>date</th>\n",
       "      <th>period</th>\n",
       "      <th>Market Segment</th>\n",
       "      <th>volume</th>\n",
       "    </tr>\n",
       "  </thead>\n",
       "  <tbody>\n",
       "    <tr>\n",
       "      <th>0</th>\n",
       "      <td>01/01/2010</td>\n",
       "      <td>1</td>\n",
       "      <td>SMALL MEDIUM ENTERPRISE</td>\n",
       "      <td>6531.116823</td>\n",
       "    </tr>\n",
       "    <tr>\n",
       "      <th>1</th>\n",
       "      <td>01/01/2010</td>\n",
       "      <td>1</td>\n",
       "      <td>RESIDENTIAL</td>\n",
       "      <td>6300.450157</td>\n",
       "    </tr>\n",
       "    <tr>\n",
       "      <th>2</th>\n",
       "      <td>01/01/2010</td>\n",
       "      <td>2</td>\n",
       "      <td>SMALL MEDIUM ENTERPRISE</td>\n",
       "      <td>7635.442395</td>\n",
       "    </tr>\n",
       "    <tr>\n",
       "      <th>3</th>\n",
       "      <td>01/01/2010</td>\n",
       "      <td>2</td>\n",
       "      <td>RESIDENTIAL</td>\n",
       "      <td>7414.109061</td>\n",
       "    </tr>\n",
       "    <tr>\n",
       "      <th>4</th>\n",
       "      <td>01/01/2010</td>\n",
       "      <td>3</td>\n",
       "      <td>SMALL MEDIUM ENTERPRISE</td>\n",
       "      <td>7167.867471</td>\n",
       "    </tr>\n",
       "  </tbody>\n",
       "</table>\n",
       "</div>"
      ],
      "text/plain": [
       "         date  period           Market Segment       volume\n",
       "0  01/01/2010       1  SMALL MEDIUM ENTERPRISE  6531.116823\n",
       "1  01/01/2010       1              RESIDENTIAL  6300.450157\n",
       "2  01/01/2010       2  SMALL MEDIUM ENTERPRISE  7635.442395\n",
       "3  01/01/2010       2              RESIDENTIAL  7414.109061\n",
       "4  01/01/2010       3  SMALL MEDIUM ENTERPRISE  7167.867471"
      ]
     },
     "execution_count": 356,
     "metadata": {},
     "output_type": "execute_result"
    }
   ],
   "source": [
    "actual_vol.head()"
   ]
  },
  {
   "cell_type": "code",
   "execution_count": 357,
   "metadata": {},
   "outputs": [],
   "source": [
    "actual_vol_day = actual_vol.groupby(['date','Market Segment'])['volume'].sum().reset_index().rename({'volume':'actual_volume_a_day'}, axis= 1)"
   ]
  },
  {
   "cell_type": "code",
   "execution_count": 360,
   "metadata": {},
   "outputs": [],
   "source": [
    "revenue_vol_cost = revenue_volume.merge(tariff, on=['Tariff name','Market Segment','region']).merge(tariff_discount, on='Payment Type').merge(\\\n",
    "                                                        actual_vol_day, how = 'inner', on =[ 'date','Market Segment'],suffixes=('_forecast_vol','_actual_vol'))"
   ]
  },
  {
   "cell_type": "code",
   "execution_count": 361,
   "metadata": {},
   "outputs": [],
   "source": [
    "revenue_vol_cost['actual_apportioned_vol'] = revenue_vol_cost['apportioning_percentage']* revenue_vol_cost['actual_volume_a_day']"
   ]
  },
  {
   "cell_type": "markdown",
   "metadata": {},
   "source": [
    "5)\tUnit Revenue: (tariff rate *(1-tariff discount percentage)) * revenue_vol_cost.actual_apportioned_vol"
   ]
  },
  {
   "cell_type": "code",
   "execution_count": 363,
   "metadata": {},
   "outputs": [],
   "source": [
    "revenue_vol_cost['unit_revenue'] = revenue_vol_cost.tariff_amount * (1-  revenue_vol_cost.tariff_discount)* revenue_vol_cost.actual_apportioned_vol"
   ]
  },
  {
   "cell_type": "code",
   "execution_count": 391,
   "metadata": {},
   "outputs": [],
   "source": [
    "revenue_standing_charge_a_day = revenue[['date','region','Market Segment','Product id','Tariff name','Payment Type','standing_charge_a_day']].drop_duplicates()"
   ]
  },
  {
   "cell_type": "code",
   "execution_count": 394,
   "metadata": {},
   "outputs": [],
   "source": [
    "revenues = revenue_vol_cost[['date','region','Market Segment','Product id','Tariff name','Payment Type','unit_revenue']]\\\n",
    "            .merge(revenue_standing_charge_a_day, on=['date','region','Market Segment','Product id','Tariff name','Payment Type'])"
   ]
  },
  {
   "cell_type": "markdown",
   "metadata": {},
   "source": [
    "revenues['total_revenue'] is the total revenue for a day\n"
   ]
  },
  {
   "cell_type": "code",
   "execution_count": 396,
   "metadata": {},
   "outputs": [],
   "source": [
    " \n",
    "revenues['total_revenue'] = revenues['unit_revenue'] + revenues['standing_charge_a_day']"
   ]
  },
  {
   "cell_type": "code",
   "execution_count": 403,
   "metadata": {},
   "outputs": [],
   "source": [
    "\n",
    "costs = cost_merged_other[['date','period',\t'Market Segment','balancing_cost',\t'period_cost_value']]\n",
    "costs_cleaned = costs.groupby(['date','Market Segment']).sum().reset_index().drop('period', axis = 1)\n",
    "\n"
   ]
  },
  {
   "cell_type": "markdown",
   "metadata": {},
   "source": [
    "Standardise revenues date "
   ]
  },
  {
   "cell_type": "code",
   "execution_count": 406,
   "metadata": {},
   "outputs": [],
   "source": [
    "revenues['date'] = pd.to_datetime(revenues.date,format=\"%d/%m/%Y\")\n",
    "revenues = revenues.sort_values('date')"
   ]
  },
  {
   "cell_type": "markdown",
   "metadata": {},
   "source": [
    "## Profits"
   ]
  },
  {
   "cell_type": "code",
   "execution_count": 408,
   "metadata": {},
   "outputs": [],
   "source": [
    "profits = revenues.merge(costs_cleaned, on=['date','Market Segment'])"
   ]
  },
  {
   "cell_type": "markdown",
   "metadata": {},
   "source": [
    "Unsure where to get other costs, so other costs will be taken as 0"
   ]
  },
  {
   "cell_type": "code",
   "execution_count": 410,
   "metadata": {},
   "outputs": [],
   "source": [
    "profits['profit_a_day'] = profits.total_revenue - (profits.balancing_cost + profits.period_cost_value)"
   ]
  },
  {
   "cell_type": "markdown",
   "metadata": {},
   "source": [
    "Table of top 10 product id in Market Segment sorted by profits"
   ]
  },
  {
   "cell_type": "code",
   "execution_count": null,
   "metadata": {},
   "outputs": [],
   "source": [
    "profits.groupby(['Product id'])['profit_a_day'].mean().reset_index().sort_values('profit_a_day',ascending=False ).rename({'profit_a_day':'average_profit'},axis = 1).head(10)"
   ]
  },
  {
   "cell_type": "markdown",
   "metadata": {},
   "source": [
    "Plot for these 10 products"
   ]
  }
 ],
 "metadata": {
  "interpreter": {
   "hash": "1fd99935c6e50db0d866b9077b3668d5141583bc129d211e7a849ecbdd4040d9"
  },
  "kernelspec": {
   "display_name": "Python 3.9.7 ('base')",
   "language": "python",
   "name": "python3"
  },
  "language_info": {
   "codemirror_mode": {
    "name": "ipython",
    "version": 3
   },
   "file_extension": ".py",
   "mimetype": "text/x-python",
   "name": "python",
   "nbconvert_exporter": "python",
   "pygments_lexer": "ipython3",
   "version": "3.9.7"
  },
  "orig_nbformat": 4
 },
 "nbformat": 4,
 "nbformat_minor": 2
}
